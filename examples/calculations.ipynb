{
 "cells": [
  {
   "cell_type": "markdown",
   "metadata": {},
   "source": [
    "# 1. Metrics and Indicators for Human Antimicrobial Use (AMU)\n"
   ]
  },
  {
   "cell_type": "markdown",
   "metadata": {},
   "source": [
    "## 1.1 Defined Daily Dose (DDD)"
   ]
  },
  {
   "cell_type": "code",
   "execution_count": 1,
   "metadata": {},
   "outputs": [],
   "source": [
    "def calculate_ddd(total_quantity_mg, who_ddd_per_mg):\n",
    "    ddd = total_quantity_mg / who_ddd_per_mg\n",
    "    return ddd"
   ]
  },
  {
   "cell_type": "markdown",
   "metadata": {},
   "source": [
    "## 1.2 DDD per 1000 Inhabitants per Day (DID)"
   ]
  },
  {
   "cell_type": "code",
   "execution_count": 2,
   "metadata": {},
   "outputs": [],
   "source": [
    "def calculate_ddd_per_1000_inhabitants(total_ddds, population, days):\n",
    "    DID = (total_ddds / (population * days)) * 1000\n",
    "    return DID\n"
   ]
  },
  {
   "cell_type": "markdown",
   "metadata": {},
   "source": [
    "## 1.3 Prescribed Daily Dose(PDD)"
   ]
  },
  {
   "cell_type": "code",
   "execution_count": 3,
   "metadata": {},
   "outputs": [],
   "source": [
    "def calculate_pdd(total_quantity_mg, num_prescriptions):\n",
    "    PDD= total_quantity_mg / num_prescriptions\n",
    "    return PDD\n"
   ]
  },
  {
   "cell_type": "markdown",
   "metadata": {},
   "source": [
    "## 1.4. Antimicrobial Use Density (AUD)"
   ]
  },
  {
   "cell_type": "code",
   "execution_count": 4,
   "metadata": {},
   "outputs": [],
   "source": [
    "def calculate_aud(total_ddds, total_patient_days):\n",
    "    AUD = (total_ddds / total_patient_days) * 100\n",
    "    return AUD\n"
   ]
  },
  {
   "cell_type": "markdown",
   "metadata": {},
   "source": [
    "## 1.5. Percentage of Broad-Spectrum Antibiotic Use"
   ]
  },
  {
   "cell_type": "code",
   "execution_count": 5,
   "metadata": {},
   "outputs": [],
   "source": [
    "def calculate_broad_spectrum_use(broad_spectrum_ddds, total_ddds):\n",
    "    broad_spectrum_use = (broad_spectrum_ddds / total_ddds) * 100\n",
    "    return broad_spectrum_use\n"
   ]
  },
  {
   "cell_type": "markdown",
   "metadata": {},
   "source": [
    "## 1.6. Prescribing Rate"
   ]
  },
  {
   "cell_type": "code",
   "execution_count": 6,
   "metadata": {},
   "outputs": [],
   "source": [
    "def calculate_prescribing_rate(num_prescriptions, total_consultations):\n",
    "    prescribing_rate = (num_prescriptions / total_consultations) * 100\n",
    "    return prescribing_rate "
   ]
  },
  {
   "cell_type": "markdown",
   "metadata": {},
   "source": [
    "# 2. Metrics for Animal Antimicrobial Use (AMU)"
   ]
  },
  {
   "cell_type": "markdown",
   "metadata": {},
   "source": [
    "## 2.1. Milligrams per Population Correction Unit (mg/PCU)"
   ]
  },
  {
   "cell_type": "code",
   "execution_count": 7,
   "metadata": {},
   "outputs": [],
   "source": [
    "def calculate_mg_per_pcu(total_antimicrobials_mg, total_animal_biomass_kg):\n",
    "    mg_per_pcu = total_antimicrobials_mg / total_animal_biomass_kg\n",
    "    return mg_per_pcu"
   ]
  },
  {
   "cell_type": "markdown",
   "metadata": {},
   "source": [
    "## 2.2. Treatment Incidence (TI)\n"
   ]
  },
  {
   "cell_type": "code",
   "execution_count": 8,
   "metadata": {},
   "outputs": [],
   "source": [
    "def calculate_treatment_incidence(ddd_vet, animal_population, days_in_study):\n",
    "    TI = (ddd_vet / (animal_population * days_in_study)) * 1000 \n",
    "    return TI"
   ]
  },
  {
   "cell_type": "markdown",
   "metadata": {},
   "source": [
    "# 3. Metrics for Environmental Antimicrobial Contamination"
   ]
  },
  {
   "cell_type": "markdown",
   "metadata": {},
   "source": [
    "## 3.1. Antimicrobial Residue Concentration\n"
   ]
  },
  {
   "cell_type": "code",
   "execution_count": 9,
   "metadata": {},
   "outputs": [],
   "source": [
    "def calculate_residue_concentration(mass_detected_mg, sample_volume_or_weight):\n",
    "    residue_concentration = mass_detected_mg / sample_volume_or_weight\n",
    "    return residue_concentration"
   ]
  },
  {
   "cell_type": "markdown",
   "metadata": {},
   "source": [
    "## 3.2. Prevalence of Antimicrobial-Resistant Bacteria in the Environment"
   ]
  },
  {
   "cell_type": "code",
   "execution_count": 10,
   "metadata": {},
   "outputs": [],
   "source": [
    "def calculate_prevalence(resistant_isolates, total_isolates):\n",
    "    prevalence = (resistant_isolates / total_isolates) * 100\n",
    "    return prevalence"
   ]
  },
  {
   "cell_type": "markdown",
   "metadata": {},
   "source": [
    "# 4. Cross-Sector Indicators in One Health"
   ]
  },
  {
   "cell_type": "markdown",
   "metadata": {},
   "source": [
    "## 4.1. Consumption by Class"
   ]
  },
  {
   "cell_type": "code",
   "execution_count": 11,
   "metadata": {},
   "outputs": [],
   "source": [
    "def calculate_class_consumption(class_ddds, total_ddds):\n",
    "    class_consumption = (class_ddds / total_ddds) * 100\n",
    "    return class_consumption"
   ]
  },
  {
   "cell_type": "markdown",
   "metadata": {},
   "source": [
    "## 4.2. Proportion of Critically Important Antimicrobials (CIA)"
   ]
  },
  {
   "cell_type": "code",
   "execution_count": 12,
   "metadata": {},
   "outputs": [],
   "source": [
    "def calculate_cia_proportion(cia_ddds, total_ddds):\n",
    "    cia_proportion = (cia_ddds / total_ddds) * 100\n",
    "    return cia_proportion\n"
   ]
  },
  {
   "cell_type": "markdown",
   "metadata": {},
   "source": [
    "# 5. Surveillance Metrics"
   ]
  },
  {
   "cell_type": "markdown",
   "metadata": {},
   "source": [
    "## 5.1. Resistance Rate"
   ]
  },
  {
   "cell_type": "code",
   "execution_count": 13,
   "metadata": {},
   "outputs": [],
   "source": [
    "def calculate_resistance_rate(resistant_isolates, total_isolates):\n",
    "    resistance_rate = (resistant_isolates / total_isolates) * 100\n",
    "    return resistance_rate"
   ]
  },
  {
   "cell_type": "markdown",
   "metadata": {},
   "source": [
    "## 5.2. Multidrug Resistance (MDR) Rate\n"
   ]
  },
  {
   "cell_type": "code",
   "execution_count": 14,
   "metadata": {},
   "outputs": [],
   "source": [
    "def calculate_mdr_rate(mdr_isolates, total_isolates):\n",
    "    mdr_rate = (mdr_isolates / total_isolates) * 100\n",
    "    return mdr_rate\n"
   ]
  },
  {
   "cell_type": "markdown",
   "metadata": {},
   "source": [
    "# 6. Composite Indicators"
   ]
  },
  {
   "cell_type": "markdown",
   "metadata": {},
   "source": [
    "## 6.1. DDD Ratio"
   ]
  },
  {
   "cell_type": "code",
   "execution_count": 15,
   "metadata": {},
   "outputs": [],
   "source": [
    "def calculate_ddd_ratio(sector_ddds, total_ddds):\n",
    "    ddd_ratio = (sector_ddds / total_ddds) * 100\n",
    "    return ddd_ratio\n"
   ]
  },
  {
   "cell_type": "markdown",
   "metadata": {},
   "source": [
    "---"
   ]
  },
  {
   "cell_type": "markdown",
   "metadata": {},
   "source": [
    "# *EXAMPLE USAGE*"
   ]
  },
  {
   "cell_type": "markdown",
   "metadata": {},
   "source": [
    "---"
   ]
  },
  {
   "cell_type": "code",
   "execution_count": 17,
   "metadata": {},
   "outputs": [
    {
     "name": "stdout",
     "output_type": "stream",
     "text": [
      "Human AMU Metrics\n",
      "  Defined Daily Dose (DDD): 10000.0\n",
      "  DDD per 1000 Inhabitants per Day: 0.013698630136986302\n",
      "  Broad-Spectrum Antibiotic Use (%): 20.0\n",
      "  Prescribed Daily Dose (PDD): 33.333333333333336\n",
      "  Prescribing Rate (%): 30.0\n",
      "\n",
      "Animal AMU Metrics\n",
      "  Milligrams per Population Correction Unit (mg/PCU): 1.2\n",
      "  Treatment Incidence (TI): 0.4109589041095891\n",
      "\n",
      "Environmental Metrics\n",
      "  Residue Concentration (mg/L or mg/kg): 10.0\n",
      "  Prevalence of Antimicrobial-Resistant Bacteria (%): 40.0\n",
      "\n",
      "Surveillance Metrics\n",
      "  Resistance Rate (%): 30.0\n",
      "  Multidrug Resistance (MDR) Rate (%): 5.0\n",
      "\n",
      "Cross-Sector Metrics\n",
      "  Consumption by Class (%): 20.0\n",
      "  Proportion of CIAs (%): 7.5\n",
      "\n",
      "Composite Metrics\n",
      "  DDD Ratio (Sector/Total): 40.0\n"
     ]
    }
   ],
   "source": [
    "# Example Data\n",
    "# Human AMU Data\n",
    "total_quantity_mg_human = 5000000  # Total quantity of antimicrobials used in mg\n",
    "ddd_per_mg_human = 500  # Defined Daily Dose in mg\n",
    "population_human = 2000000  # Total human population\n",
    "days_human = 365  # Study period in days\n",
    "broad_spectrum_ddds_human = 200000  # Broad-spectrum antibiotic DDDs\n",
    "total_ddds_human = 1000000  # Total DDDs\n",
    "num_prescriptions_human = 150000  # Total prescriptions\n",
    "total_consultations_human = 500000  # Total consultations\n",
    "\n",
    "# Animal AMU Data\n",
    "total_antimicrobials_mg_animal = 3000000  # Total antimicrobials used in animals (mg)\n",
    "total_animal_biomass_kg = 2500000  # Total animal biomass (kg)\n",
    "ddd_vet_animal = 150000  # Veterinary DDDs\n",
    "animal_population = 1000000  # Total animal population\n",
    "days_animal = 365  # Study period in days\n",
    "\n",
    "# Environmental AMU Data\n",
    "mass_detected_mg = 100  # Mass of antimicrobials detected in mg\n",
    "sample_volume_or_weight = 10  # Sample volume or weight in liters or kg\n",
    "resistant_isolates_env = 40  # Resistant isolates detected\n",
    "total_isolates_env = 100  # Total isolates tested\n",
    "\n",
    "# Surveillance Data\n",
    "resistant_isolates_surv = 300  # Resistant isolates in surveillance\n",
    "total_isolates_surv = 1000  # Total isolates in surveillance\n",
    "mdr_isolates = 50  # Multidrug-resistant isolates\n",
    "\n",
    "# Cross-Sector Data\n",
    "class_ddds = 400000  # DDDs for a specific antimicrobial class\n",
    "cia_ddds = 150000  # Critically Important Antimicrobials (CIAs) DDDs\n",
    "\n",
    "# Composite Data\n",
    "sector_ddds = 800000  # DDDs for one sector\n",
    "total_ddds_all = 2000000  # Total DDDs across all sectors\n",
    "\n",
    "# Functions (import these from the provided code or define inline)\n",
    "# Human AMU\n",
    "ddd_human = calculate_ddd(total_quantity_mg_human, ddd_per_mg_human)\n",
    "ddd_per_1000_human = calculate_ddd_per_1000_inhabitants(ddd_human, population_human, days_human)\n",
    "broad_spectrum_percentage_human = calculate_broad_spectrum_use(broad_spectrum_ddds_human, total_ddds_human)\n",
    "pdd_human = calculate_pdd(total_quantity_mg_human, num_prescriptions_human)\n",
    "prescribing_rate_human = calculate_prescribing_rate(num_prescriptions_human, total_consultations_human)\n",
    "\n",
    "# Animal AMU\n",
    "mg_per_pcu = calculate_mg_per_pcu(total_antimicrobials_mg_animal, total_animal_biomass_kg)\n",
    "treatment_incidence_animal = calculate_treatment_incidence(ddd_vet_animal, animal_population, days_animal)\n",
    "\n",
    "# Environmental Metrics\n",
    "residue_concentration_env = calculate_residue_concentration(mass_detected_mg, sample_volume_or_weight)\n",
    "prevalence_resistance_env = calculate_prevalence(resistant_isolates_env, total_isolates_env)\n",
    "\n",
    "# Surveillance Metrics\n",
    "resistance_rate_surv = calculate_resistance_rate(resistant_isolates_surv, total_isolates_surv)\n",
    "mdr_rate_surv = calculate_mdr_rate(mdr_isolates, total_isolates_surv)\n",
    "\n",
    "# Cross-Sector Metrics\n",
    "class_consumption_percentage = calculate_class_consumption(class_ddds, total_ddds_all)\n",
    "cia_proportion = calculate_cia_proportion(cia_ddds, total_ddds_all)\n",
    "\n",
    "# Composite Metrics\n",
    "ddd_ratio_sector = calculate_ddd_ratio(sector_ddds, total_ddds_all)\n",
    "\n",
    "# Output Results\n",
    "print(\"Human AMU Metrics\")\n",
    "print(f\"  Defined Daily Dose (DDD): {ddd_human}\")\n",
    "print(f\"  DDD per 1000 Inhabitants per Day: {ddd_per_1000_human}\")\n",
    "print(f\"  Broad-Spectrum Antibiotic Use (%): {broad_spectrum_percentage_human}\")\n",
    "print(f\"  Prescribed Daily Dose (PDD): {pdd_human}\")\n",
    "print(f\"  Prescribing Rate (%): {prescribing_rate_human}\")\n",
    "\n",
    "print(\"\\nAnimal AMU Metrics\")\n",
    "print(f\"  Milligrams per Population Correction Unit (mg/PCU): {mg_per_pcu}\")\n",
    "print(f\"  Treatment Incidence (TI): {treatment_incidence_animal}\")\n",
    "\n",
    "print(\"\\nEnvironmental Metrics\")\n",
    "print(f\"  Residue Concentration (mg/L or mg/kg): {residue_concentration_env}\")\n",
    "print(f\"  Prevalence of Antimicrobial-Resistant Bacteria (%): {prevalence_resistance_env}\")\n",
    "\n",
    "print(\"\\nSurveillance Metrics\")\n",
    "print(f\"  Resistance Rate (%): {resistance_rate_surv}\")\n",
    "print(f\"  Multidrug Resistance (MDR) Rate (%): {mdr_rate_surv}\")\n",
    "\n",
    "print(\"\\nCross-Sector Metrics\")\n",
    "print(f\"  Consumption by Class (%): {class_consumption_percentage}\")\n",
    "print(f\"  Proportion of CIAs (%): {cia_proportion}\")\n",
    "\n",
    "print(\"\\nComposite Metrics\")\n",
    "print(f\"  DDD Ratio (Sector/Total): {ddd_ratio_sector}\")\n"
   ]
  },
  {
   "cell_type": "markdown",
   "metadata": {},
   "source": []
  }
 ],
 "metadata": {
  "kernelspec": {
   "display_name": "Python 3",
   "language": "python",
   "name": "python3"
  },
  "language_info": {
   "codemirror_mode": {
    "name": "ipython",
    "version": 3
   },
   "file_extension": ".py",
   "mimetype": "text/x-python",
   "name": "python",
   "nbconvert_exporter": "python",
   "pygments_lexer": "ipython3",
   "version": "3.12.8"
  }
 },
 "nbformat": 4,
 "nbformat_minor": 2
}
